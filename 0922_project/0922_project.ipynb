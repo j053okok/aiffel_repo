{
 "cells": [
  {
   "cell_type": "code",
   "execution_count": 1,
   "id": "6774d746",
   "metadata": {
    "ExecuteTime": {
     "end_time": "2023-09-21T18:10:50.818958400Z",
     "start_time": "2023-09-21T18:10:50.779617700Z"
    }
   },
   "outputs": [],
   "source": [
    "import os\n",
    "import pandas as pd\n",
    "import matplotlib.pyplot as plt\n",
    "import sklearn\n",
    "from sklearn.metrics import classification_report\n",
    "from sklearn.metrics import ConfusionMatrixDisplay\n",
    "from sklearn.linear_model import LogisticRegression\n",
    "from sklearn.semi_supervised import LabelSpreading\n",
    "from sklearn.model_selection import train_test_split\n",
    "from sklearn.metrics import f1_score\n",
    "\n",
    "import warnings\n",
    "warnings.filterwarnings(\"ignore\")"
   ]
  },
  {
   "cell_type": "code",
   "execution_count": 2,
   "id": "094768bc",
   "metadata": {
    "ExecuteTime": {
     "end_time": "2023-09-21T18:10:50.861987900Z",
     "start_time": "2023-09-21T18:10:50.782619Z"
    }
   },
   "outputs": [],
   "source": [
    "df = pd.read_csv(os.getenv('HOME')+'/aiffel/insurance_fraud/data/final_v2.csv')"
   ]
  },
  {
   "cell_type": "code",
   "execution_count": 3,
   "id": "f7089140",
   "metadata": {
    "ExecuteTime": {
     "end_time": "2023-09-21T18:10:50.896495900Z",
     "start_time": "2023-09-21T18:10:50.795633300Z"
    }
   },
   "outputs": [
    {
     "data": {
      "text/html": [
       "<div>\n",
       "<style scoped>\n",
       "    .dataframe tbody tr th:only-of-type {\n",
       "        vertical-align: middle;\n",
       "    }\n",
       "\n",
       "    .dataframe tbody tr th {\n",
       "        vertical-align: top;\n",
       "    }\n",
       "\n",
       "    .dataframe thead th {\n",
       "        text-align: right;\n",
       "    }\n",
       "</style>\n",
       "<table border=\"1\" class=\"dataframe\">\n",
       "  <thead>\n",
       "    <tr style=\"text-align: right;\">\n",
       "      <th></th>\n",
       "      <th>test/train/unlabeled</th>\n",
       "      <th>isfraud</th>\n",
       "      <th>car_model_1</th>\n",
       "      <th>car_model_2</th>\n",
       "      <th>car_model_3</th>\n",
       "      <th>car_model_4</th>\n",
       "      <th>car_model_5</th>\n",
       "      <th>sharing_type_0</th>\n",
       "      <th>sharing_type_1</th>\n",
       "      <th>age_group_1</th>\n",
       "      <th>...</th>\n",
       "      <th>acc_hour_6</th>\n",
       "      <th>oai_prsn_cnt_missing</th>\n",
       "      <th>oai_prsn_cnt_0</th>\n",
       "      <th>oai_prsn_cnt_1</th>\n",
       "      <th>oai_prsn_cnt_2</th>\n",
       "      <th>oai_prsn_cnt_3</th>\n",
       "      <th>oai_prsn_cnt_4</th>\n",
       "      <th>oai_prsn_cnt_5</th>\n",
       "      <th>network_feature_involved_cnt</th>\n",
       "      <th>h3_feature_top3_share</th>\n",
       "    </tr>\n",
       "  </thead>\n",
       "  <tbody>\n",
       "    <tr>\n",
       "      <th>0</th>\n",
       "      <td>1</td>\n",
       "      <td>1</td>\n",
       "      <td>0</td>\n",
       "      <td>1</td>\n",
       "      <td>0</td>\n",
       "      <td>0</td>\n",
       "      <td>0</td>\n",
       "      <td>0</td>\n",
       "      <td>1</td>\n",
       "      <td>1</td>\n",
       "      <td>...</td>\n",
       "      <td>0</td>\n",
       "      <td>0</td>\n",
       "      <td>1</td>\n",
       "      <td>0</td>\n",
       "      <td>0</td>\n",
       "      <td>0</td>\n",
       "      <td>0</td>\n",
       "      <td>0</td>\n",
       "      <td>5</td>\n",
       "      <td>0.413587</td>\n",
       "    </tr>\n",
       "    <tr>\n",
       "      <th>1</th>\n",
       "      <td>1</td>\n",
       "      <td>1</td>\n",
       "      <td>0</td>\n",
       "      <td>1</td>\n",
       "      <td>0</td>\n",
       "      <td>0</td>\n",
       "      <td>0</td>\n",
       "      <td>1</td>\n",
       "      <td>0</td>\n",
       "      <td>0</td>\n",
       "      <td>...</td>\n",
       "      <td>0</td>\n",
       "      <td>0</td>\n",
       "      <td>1</td>\n",
       "      <td>0</td>\n",
       "      <td>0</td>\n",
       "      <td>0</td>\n",
       "      <td>0</td>\n",
       "      <td>0</td>\n",
       "      <td>4</td>\n",
       "      <td>0.748059</td>\n",
       "    </tr>\n",
       "    <tr>\n",
       "      <th>2</th>\n",
       "      <td>1</td>\n",
       "      <td>1</td>\n",
       "      <td>0</td>\n",
       "      <td>1</td>\n",
       "      <td>0</td>\n",
       "      <td>0</td>\n",
       "      <td>0</td>\n",
       "      <td>0</td>\n",
       "      <td>1</td>\n",
       "      <td>0</td>\n",
       "      <td>...</td>\n",
       "      <td>0</td>\n",
       "      <td>0</td>\n",
       "      <td>1</td>\n",
       "      <td>0</td>\n",
       "      <td>0</td>\n",
       "      <td>0</td>\n",
       "      <td>0</td>\n",
       "      <td>0</td>\n",
       "      <td>5</td>\n",
       "      <td>0.738435</td>\n",
       "    </tr>\n",
       "    <tr>\n",
       "      <th>3</th>\n",
       "      <td>1</td>\n",
       "      <td>1</td>\n",
       "      <td>0</td>\n",
       "      <td>1</td>\n",
       "      <td>0</td>\n",
       "      <td>0</td>\n",
       "      <td>0</td>\n",
       "      <td>1</td>\n",
       "      <td>0</td>\n",
       "      <td>0</td>\n",
       "      <td>...</td>\n",
       "      <td>0</td>\n",
       "      <td>0</td>\n",
       "      <td>1</td>\n",
       "      <td>0</td>\n",
       "      <td>0</td>\n",
       "      <td>0</td>\n",
       "      <td>0</td>\n",
       "      <td>0</td>\n",
       "      <td>3</td>\n",
       "      <td>0.587487</td>\n",
       "    </tr>\n",
       "    <tr>\n",
       "      <th>4</th>\n",
       "      <td>1</td>\n",
       "      <td>1</td>\n",
       "      <td>1</td>\n",
       "      <td>0</td>\n",
       "      <td>0</td>\n",
       "      <td>0</td>\n",
       "      <td>0</td>\n",
       "      <td>1</td>\n",
       "      <td>0</td>\n",
       "      <td>0</td>\n",
       "      <td>...</td>\n",
       "      <td>0</td>\n",
       "      <td>0</td>\n",
       "      <td>0</td>\n",
       "      <td>0</td>\n",
       "      <td>0</td>\n",
       "      <td>1</td>\n",
       "      <td>0</td>\n",
       "      <td>0</td>\n",
       "      <td>6</td>\n",
       "      <td>0.683564</td>\n",
       "    </tr>\n",
       "  </tbody>\n",
       "</table>\n",
       "<p>5 rows × 52 columns</p>\n",
       "</div>"
      ],
      "text/plain": [
       "   test/train/unlabeled  isfraud  car_model_1  car_model_2  car_model_3  \\\n",
       "0                     1        1            0            1            0   \n",
       "1                     1        1            0            1            0   \n",
       "2                     1        1            0            1            0   \n",
       "3                     1        1            0            1            0   \n",
       "4                     1        1            1            0            0   \n",
       "\n",
       "   car_model_4  car_model_5  sharing_type_0  sharing_type_1  age_group_1  ...  \\\n",
       "0            0            0               0               1            1  ...   \n",
       "1            0            0               1               0            0  ...   \n",
       "2            0            0               0               1            0  ...   \n",
       "3            0            0               1               0            0  ...   \n",
       "4            0            0               1               0            0  ...   \n",
       "\n",
       "   acc_hour_6  oai_prsn_cnt_missing  oai_prsn_cnt_0  oai_prsn_cnt_1  \\\n",
       "0           0                     0               1               0   \n",
       "1           0                     0               1               0   \n",
       "2           0                     0               1               0   \n",
       "3           0                     0               1               0   \n",
       "4           0                     0               0               0   \n",
       "\n",
       "   oai_prsn_cnt_2  oai_prsn_cnt_3  oai_prsn_cnt_4  oai_prsn_cnt_5  \\\n",
       "0               0               0               0               0   \n",
       "1               0               0               0               0   \n",
       "2               0               0               0               0   \n",
       "3               0               0               0               0   \n",
       "4               0               1               0               0   \n",
       "\n",
       "   network_feature_involved_cnt  h3_feature_top3_share  \n",
       "0                             5               0.413587  \n",
       "1                             4               0.748059  \n",
       "2                             5               0.738435  \n",
       "3                             3               0.587487  \n",
       "4                             6               0.683564  \n",
       "\n",
       "[5 rows x 52 columns]"
      ]
     },
     "execution_count": 3,
     "metadata": {},
     "output_type": "execute_result"
    }
   ],
   "source": [
    "df.head()"
   ]
  },
  {
   "cell_type": "code",
   "execution_count": 4,
   "id": "a6774f0c",
   "metadata": {
    "ExecuteTime": {
     "end_time": "2023-09-21T18:10:50.897245100Z",
     "start_time": "2023-09-21T18:10:50.811456600Z"
    }
   },
   "outputs": [
    {
     "data": {
      "text/plain": [
       "array([1, 2, 3])"
      ]
     },
     "execution_count": 4,
     "metadata": {},
     "output_type": "execute_result"
    }
   ],
   "source": [
    "df['test/train/unlabeled'].unique()"
   ]
  },
  {
   "cell_type": "code",
   "execution_count": 5,
   "id": "bf5aaab6",
   "metadata": {
    "ExecuteTime": {
     "end_time": "2023-09-21T18:10:50.897995100Z",
     "start_time": "2023-09-21T18:10:50.822261300Z"
    }
   },
   "outputs": [
    {
     "name": "stdout",
     "output_type": "stream",
     "text": [
      "149\n",
      "100\n",
      "351\n"
     ]
    }
   ],
   "source": [
    "print(len(df[df['test/train/unlabeled'] == 1]))\n",
    "print(len(df[df['test/train/unlabeled'] == 2]))\n",
    "print(len(df[df['test/train/unlabeled'] == 3]))"
   ]
  },
  {
   "cell_type": "code",
   "execution_count": 6,
   "id": "626f6885",
   "metadata": {
    "ExecuteTime": {
     "end_time": "2023-09-21T18:10:50.897995100Z",
     "start_time": "2023-09-21T18:10:50.832252700Z"
    }
   },
   "outputs": [
    {
     "data": {
      "text/plain": [
       "array([ 1,  0, -1])"
      ]
     },
     "execution_count": 6,
     "metadata": {},
     "output_type": "execute_result"
    }
   ],
   "source": [
    "df['isfraud'].unique()"
   ]
  },
  {
   "cell_type": "code",
   "execution_count": 7,
   "id": "f2c9fcb1",
   "metadata": {
    "ExecuteTime": {
     "end_time": "2023-09-21T18:10:50.897995100Z",
     "start_time": "2023-09-21T18:10:50.842035600Z"
    }
   },
   "outputs": [
    {
     "name": "stdout",
     "output_type": "stream",
     "text": [
      "191\n",
      "58\n",
      "351\n"
     ]
    }
   ],
   "source": [
    "print(len(df[df['isfraud'] == 0]))\n",
    "print(len(df[df['isfraud'] == 1]))\n",
    "print(len(df[df['isfraud'] == -1]))"
   ]
  },
  {
   "cell_type": "code",
   "execution_count": 8,
   "id": "210f8369",
   "metadata": {
    "ExecuteTime": {
     "end_time": "2023-09-21T18:10:50.984544700Z",
     "start_time": "2023-09-21T18:10:50.852986900Z"
    }
   },
   "outputs": [
    {
     "data": {
      "image/png": "[encoded data removed]",
      "text/plain": [
       "<Figure size 432x288 with 1 Axes>"
      ]
     },
     "metadata": {
      "needs_background": "light"
     },
     "output_type": "display_data"
    }
   ],
   "source": [
    "plt.hist(df['isfraud'])\n",
    "plt.show()"
   ]
  },
  {
   "cell_type": "markdown",
   "id": "25cb12af",
   "metadata": {},
   "source": [
    "* 'test/train/unlabeld'의 3과 'isfraud' -1의 갯수가 같기 때문에 3을 추정해야함"
   ]
  },
  {
   "cell_type": "code",
   "execution_count": 9,
   "id": "6400a0f5",
   "metadata": {
    "ExecuteTime": {
     "end_time": "2023-09-21T18:10:50.984544700Z",
     "start_time": "2023-09-21T18:10:50.943830600Z"
    }
   },
   "outputs": [],
   "source": [
    "features = df.columns.drop(['test/train/unlabeled', 'isfraud'])\n",
    "label = ['isfraud']"
   ]
  },
  {
   "cell_type": "code",
   "execution_count": 10,
   "id": "1af23c32",
   "metadata": {
    "ExecuteTime": {
     "end_time": "2023-09-21T18:10:51.007050200Z",
     "start_time": "2023-09-21T18:10:50.947517Z"
    }
   },
   "outputs": [],
   "source": [
    "# labled 데이터 변수 지정\n",
    "X_train_labeled = df[df['test/train/unlabeled'] == 2][features]\n",
    "Y_train_labeled = df[df['test/train/unlabeled'] == 2][label]\n",
    "\n",
    "X_test_labeled = df[df['test/train/unlabeled'] == 1][features]\n",
    "Y_test_labeled = df[df['test/train/unlabeled'] == 1][label]"
   ]
  },
  {
   "cell_type": "markdown",
   "id": "f2d960ad",
   "metadata": {},
   "source": [
    "###  Baseline모델"
   ]
  },
  {
   "cell_type": "code",
   "execution_count": 11,
   "id": "63cb80be",
   "metadata": {
    "ExecuteTime": {
     "end_time": "2023-09-21T18:10:51.007800Z",
     "start_time": "2023-09-21T18:10:50.959241200Z"
    }
   },
   "outputs": [],
   "source": [
    "clf1 = LogisticRegression(random_state=0).fit(X_train_labeled, Y_train_labeled.values.ravel())\n",
    "\n",
    "y = Y_test_labeled\n",
    "y_pred = clf1.predict(X_test_labeled)"
   ]
  },
  {
   "cell_type": "code",
   "execution_count": 12,
   "id": "a491a7f3",
   "metadata": {
    "ExecuteTime": {
     "end_time": "2023-09-21T18:10:51.092058400Z",
     "start_time": "2023-09-21T18:10:50.972543Z"
    }
   },
   "outputs": [
    {
     "name": "stdout",
     "output_type": "stream",
     "text": [
      "              precision    recall  f1-score   support\n",
      "\n",
      "           0       0.92      0.71      0.80       124\n",
      "           1       0.32      0.68      0.44        25\n",
      "\n",
      "    accuracy                           0.70       149\n",
      "   macro avg       0.62      0.69      0.62       149\n",
      "weighted avg       0.82      0.70      0.74       149\n",
      "\n"
     ]
    },
    {
     "data": {
      "image/png": "[encoded data removed]",
      "text/plain": [
       "<Figure size 432x288 with 2 Axes>"
      ]
     },
     "metadata": {
      "needs_background": "light"
     },
     "output_type": "display_data"
    }
   ],
   "source": [
    "print(classification_report(y, y_pred))\n",
    "ConfusionMatrixDisplay.from_estimator(clf1, X_test_labeled, Y_test_labeled)\n",
    "plt.show()"
   ]
  },
  {
   "cell_type": "markdown",
   "id": "f4ba8e84",
   "metadata": {},
   "source": [
    "* 보험사기라는 것을 뜻하는 1의 f1-score가 0.44를 기록함"
   ]
  },
  {
   "cell_type": "markdown",
   "id": "063a8804",
   "metadata": {},
   "source": [
    "### 프로젝트"
   ]
  },
  {
   "cell_type": "code",
   "execution_count": 13,
   "id": "cd26dc8f",
   "metadata": {
    "ExecuteTime": {
     "end_time": "2023-09-21T18:10:51.092058400Z",
     "start_time": "2023-09-21T18:10:51.075035900Z"
    }
   },
   "outputs": [],
   "source": [
    "# unlabeled 데이터 변수지정\n",
    "X_train_unlabeled = df[df['test/train/unlabeled'] == 3]\n",
    "X_train_unlabeled = X_train_unlabeled.drop(['test/train/unlabeled'], axis = 1)"
   ]
  },
  {
   "cell_type": "code",
   "execution_count": 14,
   "id": "f1e747f4",
   "metadata": {
    "ExecuteTime": {
     "end_time": "2023-09-21T18:10:51.092058400Z",
     "start_time": "2023-09-21T18:10:51.080133600Z"
    }
   },
   "outputs": [
    {
     "data": {
      "text/plain": [
       "351"
      ]
     },
     "execution_count": 14,
     "metadata": {},
     "output_type": "execute_result"
    }
   ],
   "source": [
    "len(X_train_unlabeled)"
   ]
  },
  {
   "cell_type": "code",
   "execution_count": 15,
   "id": "6ca7bd4e",
   "metadata": {
    "ExecuteTime": {
     "end_time": "2023-09-21T18:10:52.120755100Z",
     "start_time": "2023-09-21T18:10:51.090558100Z"
    }
   },
   "outputs": [
    {
     "name": "stdout",
     "output_type": "stream",
     "text": [
      "unlabeled 샘플갯수 : (35, 51), 총 훈련데이터 갯수 (135, 50)\n",
      "F1 Score(neighbors : 1, ratios : 0.1): 0.23\n",
      "              precision    recall  f1-score   support\n",
      "\n",
      "           0       0.84      0.82      0.83       124\n",
      "           1       0.21      0.24      0.23        25\n",
      "\n",
      "    accuracy                           0.72       149\n",
      "   macro avg       0.53      0.53      0.53       149\n",
      "weighted avg       0.74      0.72      0.73       149\n",
      "\n"
     ]
    },
    {
     "data": {
      "image/png": "[encoded data removed]",
      "text/plain": [
       "<Figure size 432x288 with 2 Axes>"
      ]
     },
     "metadata": {
      "needs_background": "light"
     },
     "output_type": "display_data"
    },
    {
     "name": "stdout",
     "output_type": "stream",
     "text": [
      "unlabeled 샘플갯수 : (105, 51), 총 훈련데이터 갯수 (205, 50)\n",
      "F1 Score(neighbors : 1, ratios : 0.3): 0.22\n",
      "              precision    recall  f1-score   support\n",
      "\n",
      "           0       0.84      0.87      0.86       124\n",
      "           1       0.24      0.20      0.22        25\n",
      "\n",
      "    accuracy                           0.76       149\n",
      "   macro avg       0.54      0.54      0.54       149\n",
      "weighted avg       0.74      0.76      0.75       149\n",
      "\n"
     ]
    },
    {
     "data": {
      "image/png": "[encoded data removed]",
      "text/plain": [
       "<Figure size 432x288 with 2 Axes>"
      ]
     },
     "metadata": {
      "needs_background": "light"
     },
     "output_type": "display_data"
    },
    {
     "name": "stdout",
     "output_type": "stream",
     "text": [
      "unlabeled 샘플갯수 : (176, 51), 총 훈련데이터 갯수 (276, 50)\n",
      "F1 Score(neighbors : 1, ratios : 0.5): 0.24\n",
      "              precision    recall  f1-score   support\n",
      "\n",
      "           0       0.85      0.91      0.88       124\n",
      "           1       0.31      0.20      0.24        25\n",
      "\n",
      "    accuracy                           0.79       149\n",
      "   macro avg       0.58      0.56      0.56       149\n",
      "weighted avg       0.76      0.79      0.77       149\n",
      "\n"
     ]
    },
    {
     "data": {
      "image/png": "[encoded data removed]",
      "text/plain": [
       "<Figure size 432x288 with 2 Axes>"
      ]
     },
     "metadata": {
      "needs_background": "light"
     },
     "output_type": "display_data"
    },
    {
     "name": "stdout",
     "output_type": "stream",
     "text": [
      "unlabeled 샘플갯수 : (35, 51), 총 훈련데이터 갯수 (135, 50)\n",
      "F1 Score(neighbors : 3, ratios : 0.1): 0.37\n",
      "              precision    recall  f1-score   support\n",
      "\n",
      "           0       0.88      0.81      0.84       124\n",
      "           1       0.31      0.44      0.37        25\n",
      "\n",
      "    accuracy                           0.74       149\n",
      "   macro avg       0.60      0.62      0.60       149\n",
      "weighted avg       0.78      0.74      0.76       149\n",
      "\n"
     ]
    },
    {
     "data": {
      "image/png": "[encoded data removed]",
      "text/plain": [
       "<Figure size 432x288 with 2 Axes>"
      ]
     },
     "metadata": {
      "needs_background": "light"
     },
     "output_type": "display_data"
    },
    {
     "name": "stdout",
     "output_type": "stream",
     "text": [
      "unlabeled 샘플갯수 : (105, 51), 총 훈련데이터 갯수 (205, 50)\n",
      "F1 Score(neighbors : 3, ratios : 0.3): 0.23\n",
      "              precision    recall  f1-score   support\n",
      "\n",
      "           0       0.84      0.77      0.80       124\n",
      "           1       0.19      0.28      0.23        25\n",
      "\n",
      "    accuracy                           0.68       149\n",
      "   macro avg       0.52      0.52      0.52       149\n",
      "weighted avg       0.73      0.68      0.71       149\n",
      "\n"
     ]
    },
    {
     "data": {
      "image/png": "[encoded data removed]",
      "text/plain": [
       "<Figure size 432x288 with 2 Axes>"
      ]
     },
     "metadata": {
      "needs_background": "light"
     },
     "output_type": "display_data"
    },
    {
     "name": "stdout",
     "output_type": "stream",
     "text": [
      "unlabeled 샘플갯수 : (176, 51), 총 훈련데이터 갯수 (276, 50)\n",
      "F1 Score(neighbors : 3, ratios : 0.5): 0.24\n",
      "              precision    recall  f1-score   support\n",
      "\n",
      "           0       0.84      0.72      0.77       124\n",
      "           1       0.19      0.32      0.24        25\n",
      "\n",
      "    accuracy                           0.65       149\n",
      "   macro avg       0.51      0.52      0.50       149\n",
      "weighted avg       0.73      0.65      0.68       149\n",
      "\n"
     ]
    },
    {
     "data": {
      "image/png": "[encoded data removed]",
      "text/plain": [
       "<Figure size 432x288 with 2 Axes>"
      ]
     },
     "metadata": {
      "needs_background": "light"
     },
     "output_type": "display_data"
    },
    {
     "name": "stdout",
     "output_type": "stream",
     "text": [
      "unlabeled 샘플갯수 : (35, 51), 총 훈련데이터 갯수 (135, 50)\n",
      "F1 Score(neighbors : 5, ratios : 0.1): 0.36\n",
      "              precision    recall  f1-score   support\n",
      "\n",
      "           0       0.87      0.87      0.87       124\n",
      "           1       0.36      0.36      0.36        25\n",
      "\n",
      "    accuracy                           0.79       149\n",
      "   macro avg       0.62      0.62      0.62       149\n",
      "weighted avg       0.79      0.79      0.79       149\n",
      "\n"
     ]
    },
    {
     "data": {
      "image/png": "[encoded data removed]",
      "text/plain": [
       "<Figure size 432x288 with 2 Axes>"
      ]
     },
     "metadata": {
      "needs_background": "light"
     },
     "output_type": "display_data"
    },
    {
     "name": "stdout",
     "output_type": "stream",
     "text": [
      "unlabeled 샘플갯수 : (105, 51), 총 훈련데이터 갯수 (205, 50)\n",
      "F1 Score(neighbors : 5, ratios : 0.3): 0.32\n",
      "              precision    recall  f1-score   support\n",
      "\n",
      "           0       0.87      0.78      0.82       124\n",
      "           1       0.27      0.40      0.32        25\n",
      "\n",
      "    accuracy                           0.72       149\n",
      "   macro avg       0.57      0.59      0.57       149\n",
      "weighted avg       0.77      0.72      0.74       149\n",
      "\n"
     ]
    },
    {
     "data": {
      "image/png": "[encoded data removed]",
      "text/plain": [
       "<Figure size 432x288 with 2 Axes>"
      ]
     },
     "metadata": {
      "needs_background": "light"
     },
     "output_type": "display_data"
    },
    {
     "name": "stdout",
     "output_type": "stream",
     "text": [
      "unlabeled 샘플갯수 : (176, 51), 총 훈련데이터 갯수 (276, 50)\n",
      "F1 Score(neighbors : 5, ratios : 0.5): 0.28\n",
      "              precision    recall  f1-score   support\n",
      "\n",
      "           0       0.85      0.80      0.82       124\n",
      "           1       0.24      0.32      0.28        25\n",
      "\n",
      "    accuracy                           0.72       149\n",
      "   macro avg       0.55      0.56      0.55       149\n",
      "weighted avg       0.75      0.72      0.73       149\n",
      "\n"
     ]
    },
    {
     "data": {
      "image/png": "[encoded data removed]",
      "text/plain": [
       "<Figure size 432x288 with 2 Axes>"
      ]
     },
     "metadata": {
      "needs_background": "light"
     },
     "output_type": "display_data"
    }
   ],
   "source": [
    "k_values = [1, 3, 5] # k값\n",
    "sample_ratios = [0.1, 0.3, 0.5] # 샘플링 비율\n",
    "\n",
    "for k in k_values:\n",
    "    for s in sample_ratios:\n",
    "        model = LabelSpreading(kernel='knn', n_neighbors=k) # 모델 파라미터 지정\n",
    "        X_train_un =  X_train_unlabeled.sample(frac=s, random_state=23) # frac에 따라 비율 조정 샘플링\n",
    "        X_train = pd.concat([X_train_labeled, X_train_un])[features] # concat으로 label데이터와 unlabel데이터를 합침\n",
    "        Y_train = pd.concat([Y_train_labeled, X_train_un])[label]\n",
    "        model.fit(X_train, Y_train)\n",
    "        y_pred = model.predict(X_test_labeled)\n",
    "        f1 = f1_score(Y_test_labeled, y_pred.ravel())\n",
    "        print(f'unlabeled 샘플갯수 : {X_train_un.shape}, 총 훈련데이터 갯수 {X_train.shape}')\n",
    "        print(f'F1 Score(neighbors : {k}, ratios : {s}): {f1:.2f}')\n",
    "        print(classification_report(Y_test_labeled, y_pred))\n",
    "        ConfusionMatrixDisplay.from_estimator(model, X_test_labeled, Y_test_labeled)\n",
    "        plt.show()"
   ]
  },
  {
   "cell_type": "code",
   "execution_count": null,
   "id": "11f3bbd0",
   "metadata": {
    "ExecuteTime": {
     "end_time": "2023-09-21T18:10:52.121505100Z",
     "start_time": "2023-09-21T18:10:52.115000100Z"
    }
   },
   "outputs": [],
   "source": []
  }
 ],
 "metadata": {
  "kernelspec": {
   "display_name": "Python 3 (ipykernel)",
   "language": "python",
   "name": "python3"
  },
  "language_info": {
   "codemirror_mode": {
    "name": "ipython",
    "version": 3
   },
   "file_extension": ".py",
   "mimetype": "text/x-python",
   "name": "python",
   "nbconvert_exporter": "python",
   "pygments_lexer": "ipython3",
   "version": "3.9.7"
  }
 },
 "nbformat": 4,
 "nbformat_minor": 5
}
